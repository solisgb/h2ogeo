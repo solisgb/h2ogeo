{
 "cells": [
  {
   "cell_type": "markdown",
   "id": "b91b7f0e-87da-4a88-af0c-9605dfbb079f",
   "metadata": {},
   "source": [
    "# Medidas piezométricas en el Sinclinal de Calasparra\n",
    "## Sondeos medidos en 2018"
   ]
  },
  {
   "cell_type": "code",
   "execution_count": 20,
   "id": "e81eab73-92af-4df2-af06-0053013d744d",
   "metadata": {},
   "outputs": [],
   "source": [
    "import collections\n",
    "import getpass\n",
    "import matplotlib as mpl\n",
    "import matplotlib.pyplot as plt\n",
    "import numpy as np\n",
    "from os.path import join\n",
    "import psycopg2\n",
    "import pandas as pd\n",
    "import pandas.io.sql as psql\n",
    "\n",
    "%matplotlib widget\n",
    "\n",
    "import sys\n",
    "sys.path.append(r'C:\\Users\\solis\\Documents\\DEV\\python3\\common')\n",
    "import plot_with_mpl as p"
   ]
  },
  {
   "cell_type": "markdown",
   "id": "8dfdd232-7528-4606-b813-d5dc9c815490",
   "metadata": {},
   "source": [
    "## Figure parameters"
   ]
  },
  {
   "cell_type": "code",
   "execution_count": 2,
   "id": "21d4cf94-5a4e-41fe-89c0-3b84b7375787",
   "metadata": {},
   "outputs": [
    {
     "name": "stdout",
     "output_type": "stream",
     "text": [
      "defult ratio 4.8\n",
      "x in 4.330708661417323\n"
     ]
    }
   ],
   "source": [
    "# graphs size\n",
    "# default size 6.4 * 4.8\n",
    "default_ratio = 6.4/4.8\n",
    "print('defult ratio', 6.4/default_ratio)\n",
    "x_cm = 11\n",
    "x_in = x_cm / 2.54\n",
    "y_in = x_in / default_ratio\n",
    "print('x in', x_in)"
   ]
  },
  {
   "cell_type": "code",
   "execution_count": 3,
   "id": "98df8e38-fec0-4eba-a8c1-edd3d52351c7",
   "metadata": {},
   "outputs": [],
   "source": [
    "plt.rc('figure', figsize=(x_in, y_in))\n",
    "plt.rc('font', size=8)\n",
    "plt.rc('axes', labelsize=8, titlesize= 9, grid=True)\n",
    "plt.rc('axes.spines', right=False, top=False)\n",
    "plt.rc('xtick', direction='out', top=False)\n",
    "plt.rc('ytick', direction='out', right=False)\n",
    "plt.rc('lines', linewidth=0.8, linestyle='-', marker='.', markersize=4)\n",
    "plt.rc('legend', fontsize=8, framealpha=0.5, loc='best')\n",
    "\n",
    "plt.subplots_adjust(hspace=0.1, bottom=0.16, top=0.87)\n",
    "plt.close()\n",
    "# mpl.rcdefaults()\n",
    "\n",
    "# plt.figure(dpi=80)"
   ]
  },
  {
   "cell_type": "code",
   "execution_count": 27,
   "id": "ba23a8cc-4701-49cc-8f20-8ece4fa801be",
   "metadata": {},
   "outputs": [],
   "source": [
    "# Reload the module\n",
    "from importlib import reload \n",
    "import plot_with_mpl\n",
    "reload(plot_with_mpl)\n",
    "import plot_with_mpl as p"
   ]
  },
  {
   "cell_type": "markdown",
   "id": "ac26528f-51c9-475f-86f3-c3e63ecc53ad",
   "metadata": {},
   "source": [
    "## Database"
   ]
  },
  {
   "cell_type": "code",
   "execution_count": 4,
   "id": "7f0b5766-c11d-4c56-96d3-5bd496065517",
   "metadata": {},
   "outputs": [
    {
     "name": "stdin",
     "output_type": "stream",
     "text": [
      "DB:  ···\n",
      "User:  ········\n",
      "Password:  ··\n"
     ]
    }
   ],
   "source": [
    "db = getpass.getpass('DB: ')\n",
    "user = getpass.getpass('User: ')\n",
    "passw = getpass.getpass('Password: ')\n",
    "con = psycopg2.connect(database=db, user=user, password=passw)"
   ]
  },
  {
   "cell_type": "markdown",
   "id": "169d247d-786c-4328-b9e8-c62871af014f",
   "metadata": {},
   "source": [
    "## Functions"
   ]
  },
  {
   "cell_type": "markdown",
   "id": "08d08c10-4cfa-40ef-8dee-ad7fbc125a69",
   "metadata": {},
   "source": [
    "## Data"
   ]
  },
  {
   "cell_type": "markdown",
   "id": "379c7541-c68b-4a91-aa86-ca6fac8e4301",
   "metadata": {},
   "source": [
    "### Piezometros"
   ]
  },
  {
   "cell_type": "code",
   "execution_count": 7,
   "id": "5e016b2a-e22b-41d9-b9e4-1504aa514b07",
   "metadata": {},
   "outputs": [
    {
     "data": {
      "text/plain": [
       "odict_keys(['253530017', '253535001', '253535002', '253535003', '253540013', '253570002', '253575001', '253575002', '253575003', '253575004', '253575005', '253575006', '253575007', '253575008', '253575009', '253580002', '253580003', '253580006', '253580007', '253585004', '253585005', '263450049', '263460052'])"
      ]
     },
     "execution_count": 7,
     "metadata": {},
     "output_type": "execute_result"
    }
   ],
   "source": [
    "select = \\\n",
    "\"\"\"\n",
    "select t.cod , t.toponimia , t.z, avg(t2.pnp) , min(t2.pnp) minpnp, max(t2.pnp) maxpnp, t.geom\n",
    "from ipas.ipa1 t \n",
    "\tjoin ipas.ipa2 t2 using (cod)\n",
    "where t.acuifero = '042' and t2.fecha > '2018-01-01' and t2.fecha < '2018-12-31'\n",
    "group by t.cod , t.toponimia\n",
    "\"\"\"\n",
    "piezos = psql.read_sql(select, con)\n",
    "piezos = piezos['cod'].to_numpy()\n",
    "dpzs = [(piez1, '') for piez1 in piezos]\n",
    "dpzs = dict(dpzs)\n",
    "dpzs = collections.OrderedDict(sorted(dpzs.items()))\n",
    "dpzs.keys()"
   ]
  },
  {
   "cell_type": "code",
   "execution_count": 8,
   "id": "e9b5b745-ea82-4531-9114-43c8bfd5a3c6",
   "metadata": {},
   "outputs": [],
   "source": [
    "for piez1 in dpzs.keys():\n",
    "    select = \\\n",
    "    \"\"\"\n",
    "    select t1.cod, t1.z, t1.toponimia , t2.fecha, t2.situacion , t2.pnp, t1.z-t2.pnp cnp\n",
    "    from ipas.ipa1 t1\n",
    "        join ipas.ipa2 t2 using(cod)\n",
    "    where t1.cod = %s\n",
    "    order by t2.cod, t2.fecha\n",
    "    \"\"\"\n",
    "    dpzs[piez1] = psql.read_sql(select, con, params=(piez1,))\n",
    "    if len(dpzs[piez1]) == 0:\n",
    "        raise ValueError(f'el piezómetro {piez1} no tiene datos')\n"
   ]
  },
  {
   "cell_type": "code",
   "execution_count": 9,
   "id": "9bc0b9f5-1747-4df2-b265-907392b5bd82",
   "metadata": {},
   "outputs": [
    {
     "data": {
      "text/html": [
       "<div>\n",
       "<style scoped>\n",
       "    .dataframe tbody tr th:only-of-type {\n",
       "        vertical-align: middle;\n",
       "    }\n",
       "\n",
       "    .dataframe tbody tr th {\n",
       "        vertical-align: top;\n",
       "    }\n",
       "\n",
       "    .dataframe thead th {\n",
       "        text-align: right;\n",
       "    }\n",
       "</style>\n",
       "<table border=\"1\" class=\"dataframe\">\n",
       "  <thead>\n",
       "    <tr style=\"text-align: right;\">\n",
       "      <th></th>\n",
       "      <th>cod</th>\n",
       "      <th>z</th>\n",
       "      <th>toponimia</th>\n",
       "      <th>fecha</th>\n",
       "      <th>situacion</th>\n",
       "      <th>pnp</th>\n",
       "      <th>cnp</th>\n",
       "    </tr>\n",
       "  </thead>\n",
       "  <tbody>\n",
       "    <tr>\n",
       "      <th>0</th>\n",
       "      <td>253530017</td>\n",
       "      <td>278.0</td>\n",
       "      <td>Cantera</td>\n",
       "      <td>2002-01-30 00:00:00+01:00</td>\n",
       "      <td>e</td>\n",
       "      <td>30.85</td>\n",
       "      <td>247.150000</td>\n",
       "    </tr>\n",
       "    <tr>\n",
       "      <th>1</th>\n",
       "      <td>253530017</td>\n",
       "      <td>278.0</td>\n",
       "      <td>Cantera</td>\n",
       "      <td>2002-03-20 00:00:00+01:00</td>\n",
       "      <td>e</td>\n",
       "      <td>31.67</td>\n",
       "      <td>246.330000</td>\n",
       "    </tr>\n",
       "    <tr>\n",
       "      <th>2</th>\n",
       "      <td>253530017</td>\n",
       "      <td>278.0</td>\n",
       "      <td>Cantera</td>\n",
       "      <td>2002-05-10 00:00:00+02:00</td>\n",
       "      <td>e</td>\n",
       "      <td>31.28</td>\n",
       "      <td>246.719999</td>\n",
       "    </tr>\n",
       "    <tr>\n",
       "      <th>3</th>\n",
       "      <td>253530017</td>\n",
       "      <td>278.0</td>\n",
       "      <td>Cantera</td>\n",
       "      <td>2002-06-17 00:00:00+02:00</td>\n",
       "      <td>e</td>\n",
       "      <td>29.81</td>\n",
       "      <td>248.190001</td>\n",
       "    </tr>\n",
       "    <tr>\n",
       "      <th>4</th>\n",
       "      <td>253530017</td>\n",
       "      <td>278.0</td>\n",
       "      <td>Cantera</td>\n",
       "      <td>2002-07-07 00:00:00+02:00</td>\n",
       "      <td>e</td>\n",
       "      <td>29.81</td>\n",
       "      <td>248.190001</td>\n",
       "    </tr>\n",
       "  </tbody>\n",
       "</table>\n",
       "</div>"
      ],
      "text/plain": [
       "         cod      z toponimia                      fecha situacion    pnp  \\\n",
       "0  253530017  278.0   Cantera  2002-01-30 00:00:00+01:00         e  30.85   \n",
       "1  253530017  278.0   Cantera  2002-03-20 00:00:00+01:00         e  31.67   \n",
       "2  253530017  278.0   Cantera  2002-05-10 00:00:00+02:00         e  31.28   \n",
       "3  253530017  278.0   Cantera  2002-06-17 00:00:00+02:00         e  29.81   \n",
       "4  253530017  278.0   Cantera  2002-07-07 00:00:00+02:00         e  29.81   \n",
       "\n",
       "          cnp  \n",
       "0  247.150000  \n",
       "1  246.330000  \n",
       "2  246.719999  \n",
       "3  248.190001  \n",
       "4  248.190001  "
      ]
     },
     "execution_count": 9,
     "metadata": {},
     "output_type": "execute_result"
    }
   ],
   "source": [
    "dpzs['253530017'].head()"
   ]
  },
  {
   "cell_type": "code",
   "execution_count": 29,
   "id": "c166f83d-03ac-4625-bcdd-383dc6317a04",
   "metadata": {},
   "outputs": [
    {
     "name": "stdout",
     "output_type": "stream",
     "text": [
      "253530017\n",
      "253535001\n",
      "253535002\n",
      "253535003\n",
      "253540013\n",
      "253570002\n",
      "253575001\n",
      "253575002\n",
      "253575003\n",
      "253575004\n",
      "253575005\n",
      "253575006\n",
      "253575007\n",
      "253575008\n",
      "253575009\n",
      "253580002\n",
      "253580003\n",
      "253580006\n",
      "253580007\n",
      "253585004\n",
      "253585005\n",
      "263450049\n",
      "263460052\n"
     ]
    },
    {
     "data": {
      "application/vnd.jupyter.widget-view+json": {
       "model_id": "0006fa113d434d2aab5d420b6d708385",
       "version_major": 2,
       "version_minor": 0
      },
      "image/png": "[encoded data removed]",
      "text/html": [
       "\n",
       "            <div style=\"display: inline-block;\">\n",
       "                <div class=\"jupyter-widgets widget-label\" style=\"text-align: center;\">\n",
       "                    Figure\n",
       "                </div>\n",
       "                <img src='data:image/png;base64,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' width=433.0708661417323/>\n",
       "            </div>\n",
       "        "
      ],
      "text/plain": [
       "Canvas(toolbar=Toolbar(toolitems=[('Home', 'Reset original view', 'home', 'home'), ('Back', 'Back to previous …"
      ]
     },
     "metadata": {},
     "output_type": "display_data"
    }
   ],
   "source": [
    "dir_out = r'H:\\LSGB\\20220513_SC\\xy_pnp_2018'\n",
    "for pz1 in dpzs:\n",
    "    print(pz1)\n",
    "    fout = join(dir_out, f'{pz1}.png')\n",
    "    p.subplot_nv([dpzs[pz1]['fecha'],dpzs[pz1]['fecha']],\n",
    "                 [dpzs[pz1]['pnp'], dpzs[pz1]['cnp']],\n",
    "                 [f'{pz1}', f'{pz1}'],\n",
    "                 f'Profundidad del agua en el sondeo {pz1}', \n",
    "                 ['PNP m','CNP m s.n.m.'], plot=[True, True], fout=fout)"
   ]
  },
  {
   "cell_type": "code",
   "execution_count": null,
   "id": "53984770-5ede-4b2c-80a9-5eb15e26af52",
   "metadata": {},
   "outputs": [],
   "source": [
    "    p.subplot_nv([df_cnp['fecha'],],\n",
    "                 [df_cnp['v'], df_plv['v']],\n",
    "                 [f'{pz1.upper()}', f'Pluv. {df_plv[\"id\"][0].upper()}'],\n",
    "                 f'Cota piezómetrica en el sondeo {pz1.upper()}', \n",
    "                 ['CNP m s.n.m.', 'Prec. mm'], fout=fout)\n"
   ]
  }
 ],
 "metadata": {
  "kernelspec": {
   "display_name": "Python 3 (ipykernel)",
   "language": "python",
   "name": "python3"
  },
  "language_info": {
   "codemirror_mode": {
    "name": "ipython",
    "version": 3
   },
   "file_extension": ".py",
   "mimetype": "text/x-python",
   "name": "python",
   "nbconvert_exporter": "python",
   "pygments_lexer": "ipython3",
   "version": "3.8.12"
  }
 },
 "nbformat": 4,
 "nbformat_minor": 5
}
